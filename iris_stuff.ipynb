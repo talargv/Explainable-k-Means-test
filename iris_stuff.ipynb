{
 "cells": [
  {
   "cell_type": "code",
   "execution_count": 1,
   "metadata": {},
   "outputs": [],
   "source": [
    "import numpy as np\n",
    "from sklearn import datasets\n",
    "from sklearn.metrics.pairwise import pairwise_kernels\n",
    "from sklearn.metrics.cluster import adjusted_rand_score\n",
    "from general_graph import ExplainableGraphBased\n",
    "\n",
    "iris = datasets.load_iris()\n",
    "X = iris.data\n",
    "y_true = iris.target\n",
    "k = len(np.unique(y_true))\n",
    "gamma = 1"
   ]
  },
  {
   "cell_type": "code",
   "execution_count": 3,
   "metadata": {},
   "outputs": [],
   "source": [
    "\n",
    "graph_laplace = pairwise_kernels(X, metric='laplacian', gamma=gamma)\n",
    "tree = ExplainableGraphBased()\n",
    "tree.train(X,graph_laplace,k)\n",
    "clustering_laplace = tree.predict(X)\n"
   ]
  },
  {
   "cell_type": "code",
   "execution_count": 4,
   "metadata": {},
   "outputs": [
    {
     "data": {
      "text/plain": [
       "0.5681159420289855"
      ]
     },
     "execution_count": 4,
     "metadata": {},
     "output_type": "execute_result"
    }
   ],
   "source": [
    "adjusted_rand_score(y_true, clustering_laplace)"
   ]
  },
  {
   "cell_type": "code",
   "execution_count": 5,
   "metadata": {},
   "outputs": [],
   "source": [
    "\n",
    "graph_rbf = pairwise_kernels(X, metric='rbf', gamma=gamma)\n",
    "tree = ExplainableGraphBased()\n",
    "tree.train(X,graph_rbf,k)\n",
    "clustering_rbf = tree.predict(X)"
   ]
  },
  {
   "cell_type": "code",
   "execution_count": 6,
   "metadata": {},
   "outputs": [
    {
     "data": {
      "text/plain": [
       "0.5657466140922338"
      ]
     },
     "execution_count": 6,
     "metadata": {},
     "output_type": "execute_result"
    }
   ],
   "source": [
    "adjusted_rand_score(y_true, clustering_rbf)"
   ]
  },
  {
   "cell_type": "code",
   "execution_count": 8,
   "metadata": {},
   "outputs": [
    {
     "name": "stdout",
     "output_type": "stream",
     "text": [
      "0.8857921001989628\n",
      "0.8682571050219008\n",
      "0.7322981167185344\n",
      "0.7322981167185344\n",
      "0.8682571050219008\n"
     ]
    }
   ],
   "source": [
    "from general_graph import get_nearest_neighbors\n",
    "\n",
    "for n_neighbors in [2,5,7,10,15]:\n",
    "    graph_nn = get_nearest_neighbors(X, n_neighbors)\n",
    "    tree = ExplainableGraphBased()\n",
    "    tree.train(X,graph_nn,k)\n",
    "    clustering_nn = tree.predict(X)\n",
    "    print(adjusted_rand_score(y_true, clustering_nn))"
   ]
  }
 ],
 "metadata": {
  "kernelspec": {
   "display_name": "Python 3",
   "language": "python",
   "name": "python3"
  },
  "language_info": {
   "codemirror_mode": {
    "name": "ipython",
    "version": 3
   },
   "file_extension": ".py",
   "mimetype": "text/x-python",
   "name": "python",
   "nbconvert_exporter": "python",
   "pygments_lexer": "ipython3",
   "version": "3.10.12"
  }
 },
 "nbformat": 4,
 "nbformat_minor": 2
}
